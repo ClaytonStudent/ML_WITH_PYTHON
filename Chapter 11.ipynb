{
 "cells": [
  {
   "cell_type": "markdown",
   "metadata": {},
   "source": [
    "# Clustering Analysis"
   ]
  },
  {
   "cell_type": "markdown",
   "metadata": {},
   "source": [
    "## Three different clustering types"
   ]
  },
  {
   "cell_type": "markdown",
   "metadata": {},
   "source": [
    "1. prototype-based clustering: each cluster is represented by a prototype(k-means)    \n",
    "2. hierarchical-based clustering   \n",
    "3. density-based clustering (DBSCAN)\n",
    "4. graph-based clustering(*)"
   ]
  },
  {
   "cell_type": "markdown",
   "metadata": {},
   "source": [
    "## 1. prototype-based clustering"
   ]
  },
  {
   "cell_type": "markdown",
   "metadata": {},
   "source": [
    "## 1.1 K-Means"
   ]
  },
  {
   "cell_type": "markdown",
   "metadata": {},
   "source": [
    "K-means:  A technique that allows us to find groups of similar objects.  \n",
    "advantage: computationally efficient  \n",
    "disadvantage : specify the #k  \n",
    "Application:  \n",
    "1. grouping of documents,music,and movies by different topics    \n",
    "2. recommendation engines  \n",
    "\n",
    "  "
   ]
  },
  {
   "cell_type": "code",
   "execution_count": 2,
   "metadata": {},
   "outputs": [],
   "source": [
    "import pandas as pd\n",
    "import numpy as np\n",
    "import matplotlib.pyplot as plt\n",
    "%matplotlib inline\n",
    "import warnings\n",
    "warnings.filterwarnings('ignore')"
   ]
  },
  {
   "cell_type": "code",
   "execution_count": 8,
   "metadata": {},
   "outputs": [
    {
     "data": {
      "image/png": "[encoded data removed]",
      "text/plain": [
       "<Figure size 432x288 with 1 Axes>"
      ]
     },
     "metadata": {},
     "output_type": "display_data"
    }
   ],
   "source": [
    "from sklearn.datasets import make_blobs\n",
    "X,y = make_blobs(n_samples = 150,\n",
    "                n_features = 2,\n",
    "                centers = 3,\n",
    "                cluster_std = 0.5,\n",
    "                 shuffle = True,\n",
    "                 random_state = 0\n",
    "                )\n",
    "plt.scatter(X[:,0],X[:,1],c = 'green',marker = 'o',s = 50)\n",
    "plt.grid()"
   ]
  },
  {
   "cell_type": "code",
   "execution_count": 11,
   "metadata": {},
   "outputs": [],
   "source": [
    "# cluster\n",
    "from sklearn.cluster import KMeans\n",
    "km = KMeans(n_clusters = 3,init = 'random',n_init = 10, max_iter = 300,tol = 1e-04,random_state = 0)\n",
    "# n_clusters : number of K\n",
    "# n_init: run the algorithms 10 times\n",
    "# max_iter : max number of iteration\n",
    "# tol: tolerance of declare convergence"
   ]
  },
  {
   "cell_type": "code",
   "execution_count": 12,
   "metadata": {},
   "outputs": [],
   "source": [
    "y_km = km.fit_predict(X)"
   ]
  },
  {
   "cell_type": "code",
   "execution_count": 13,
   "metadata": {},
   "outputs": [
    {
     "data": {
      "text/plain": [
       "array([1, 0, 0, 0, 1, 0, 0, 1, 2, 0, 1, 2, 2, 0, 0, 2, 2, 1, 2, 1, 0, 1,\n",
       "       0, 0, 2, 1, 1, 0, 2, 1, 2, 2, 2, 2, 0, 1, 1, 1, 0, 0, 2, 2, 0, 1,\n",
       "       1, 1, 2, 0, 2, 0, 1, 0, 0, 1, 1, 2, 0, 1, 2, 0, 2, 2, 2, 2, 0, 2,\n",
       "       0, 1, 0, 0, 0, 1, 1, 0, 1, 0, 0, 2, 2, 0, 1, 1, 0, 0, 1, 1, 1, 2,\n",
       "       2, 1, 1, 0, 1, 0, 1, 0, 2, 2, 1, 1, 1, 1, 2, 1, 1, 0, 2, 0, 0, 0,\n",
       "       2, 0, 1, 2, 0, 2, 0, 0, 2, 2, 0, 1, 0, 0, 1, 1, 2, 1, 2, 2, 2, 2,\n",
       "       1, 2, 2, 2, 0, 2, 1, 2, 0, 0, 1, 1, 2, 2, 2, 2, 1, 1], dtype=int32)"
      ]
     },
     "execution_count": 13,
     "metadata": {},
     "output_type": "execute_result"
    }
   ],
   "source": [
    "y_km"
   ]
  },
  {
   "cell_type": "markdown",
   "metadata": {},
   "source": [
    "## 1.2 K-means++"
   ]
  },
  {
   "cell_type": "markdown",
   "metadata": {},
   "source": [
    "Place the initial centroids far away from each other "
   ]
  },
  {
   "cell_type": "markdown",
   "metadata": {},
   "source": [
    "set the init to \"k-means++\" instead of \"random\""
   ]
  },
  {
   "cell_type": "markdown",
   "metadata": {},
   "source": [
    "problem of K-means:\n",
    "1. slow convergence if the initial centroids are chosen poorly (use K-means++)\n",
    "2. one or more clusters can be empty"
   ]
  },
  {
   "cell_type": "code",
   "execution_count": 22,
   "metadata": {
    "scrolled": true
   },
   "outputs": [
    {
     "data": {
      "image/png": "[encoded data removed]",
      "text/plain": [
       "<Figure size 432x288 with 1 Axes>"
      ]
     },
     "metadata": {},
     "output_type": "display_data"
    }
   ],
   "source": [
    "plt.scatter(X[y_km ==0,0],X[y_km == 0,1],color = 'red',marker = '^',label = \"class 1\")\n",
    "plt.scatter(X[y_km ==1,0],X[y_km == 1,1],color = 'green',marker = 'o',label = \"class 2\")\n",
    "plt.scatter(X[y_km ==2,0],X[y_km == 2,1],color = 'blue',marker = '*',label = \"class 3\")\n",
    "plt.scatter(km.cluster_centers_[:,0],km.cluster_centers_[:,1],s = 250,marker=\"*\",c = 'gray',label = \"centroids\")\n",
    "plt.legend()\n",
    "plt.grid()"
   ]
  },
  {
   "cell_type": "code",
   "execution_count": 24,
   "metadata": {},
   "outputs": [
    {
     "data": {
      "text/plain": [
       "72.47601670996698"
      ]
     },
     "execution_count": 24,
     "metadata": {},
     "output_type": "execute_result"
    }
   ],
   "source": [
    "## SSE\n",
    "km.inertia_"
   ]
  },
  {
   "cell_type": "markdown",
   "metadata": {},
   "source": [
    "## 1.3 Hard vs Soft Clustering"
   ]
  },
  {
   "cell_type": "markdown",
   "metadata": {},
   "source": [
    "Hard: each sample is assigned to exactly one cluster  \n",
    "soft: replace binary with probability  \n",
    "FCM(fuzzy C-means) simiar with k-means"
   ]
  },
  {
   "cell_type": "markdown",
   "metadata": {},
   "source": [
    "## 1.4 Choose number of K"
   ]
  },
  {
   "cell_type": "markdown",
   "metadata": {},
   "source": [
    "### 1.4.1 Using the elbow method"
   ]
  },
  {
   "cell_type": "code",
   "execution_count": 25,
   "metadata": {},
   "outputs": [],
   "source": [
    "distortion = []\n",
    "for i in range(1,11):\n",
    "    km = KMeans(n_clusters = i,init = 'random',n_init = 10, max_iter = 300,tol = 1e-04,random_state = 0)\n",
    "    km.fit(X)\n",
    "    distortion.append(km.inertia_)"
   ]
  },
  {
   "cell_type": "code",
   "execution_count": 29,
   "metadata": {},
   "outputs": [
    {
     "data": {
      "text/plain": [
       "[<matplotlib.lines.Line2D at 0x113df5860>]"
      ]
     },
     "execution_count": 29,
     "metadata": {},
     "output_type": "execute_result"
    },
    {
     "data": {
      "image/png": "[encoded data removed]",
      "text/plain": [
       "<Figure size 432x288 with 1 Axes>"
      ]
     },
     "metadata": {},
     "output_type": "display_data"
    }
   ],
   "source": [
    "plt.plot(range(1,11),distortion,marker = 'o')\n",
    "# K = 3 is a good choise"
   ]
  },
  {
   "cell_type": "markdown",
   "metadata": {},
   "source": [
    "### 1.4.2 Silhouette plots"
   ]
  },
  {
   "cell_type": "code",
   "execution_count": 40,
   "metadata": {},
   "outputs": [],
   "source": [
    "km = KMeans(n_clusters = 2,init = 'k-means++',n_init = 10, max_iter = 300,tol = 1e-04,random_state = 0)\n",
    "y_km = km.fit_predict(X)\n",
    "from matplotlib import cm\n",
    "from sklearn.metrics import silhouette_samples\n",
    "cluster_label = np.unique(y_km)\n",
    "n_clusters = cluster_label.shape[0]\n",
    "silhouette_vals = silhouette_samples(X,y_km,metric = 'euclidean')"
   ]
  },
  {
   "cell_type": "code",
   "execution_count": 41,
   "metadata": {},
   "outputs": [
    {
     "data": {
      "text/plain": [
       "([<matplotlib.axis.YTick at 0x113d0c5c0>,\n",
       "  <matplotlib.axis.YTick at 0x113ceccc0>],\n",
       " <a list of 2 Text yticklabel objects>)"
      ]
     },
     "execution_count": 41,
     "metadata": {},
     "output_type": "execute_result"
    },
    {
     "data": {
      "image/png": "[encoded data removed]",
      "text/plain": [
       "<Figure size 432x288 with 1 Axes>"
      ]
     },
     "metadata": {},
     "output_type": "display_data"
    }
   ],
   "source": [
    "y_ax_lower,y_ax_upper = 0,0\n",
    "yticks = []\n",
    "for i,c in enumerate(cluster_label):\n",
    "    c_silhouette_vals = silhouette_vals[y_km == c]\n",
    "    c_silhouette_vals.sort()\n",
    "    y_ax_upper += len(c_silhouette_vals)\n",
    "    color = cm.jet(1/n_clusters)\n",
    "    plt.barh(range(y_ax_lower,y_ax_upper),\n",
    "            c_silhouette_vals,\n",
    "            height = 1.0,\n",
    "            edgecolor = 'none',\n",
    "            color = color)\n",
    "    yticks.append((y_ax_lower + y_ax_upper)/2)\n",
    "    y_ax_lower += len(c_silhouette_vals)\n",
    "silhouette_avg = np.mean(silhouette_vals)\n",
    "plt.axvline(silhouette_avg,color = 'red',linestyle = \"--\")\n",
    "plt.yticks(yticks,cluster_label +1)"
   ]
  },
  {
   "cell_type": "code",
   "execution_count": 42,
   "metadata": {
    "scrolled": true
   },
   "outputs": [
    {
     "data": {
      "text/plain": [
       "([<matplotlib.axis.YTick at 0x1143dd748>,\n",
       "  <matplotlib.axis.YTick at 0x1143dd080>,\n",
       "  <matplotlib.axis.YTick at 0x1143c57b8>],\n",
       " <a list of 3 Text yticklabel objects>)"
      ]
     },
     "execution_count": 42,
     "metadata": {},
     "output_type": "execute_result"
    },
    {
     "data": {
      "image/png": "[encoded data removed]",
      "text/plain": [
       "<Figure size 432x288 with 1 Axes>"
      ]
     },
     "metadata": {},
     "output_type": "display_data"
    }
   ],
   "source": [
    "km = KMeans(n_clusters = 3,init = 'k-means++',n_init = 10, max_iter = 300,tol = 1e-04,random_state = 0)\n",
    "y_km = km.fit_predict(X)\n",
    "from matplotlib import cm\n",
    "from sklearn.metrics import silhouette_samples\n",
    "cluster_label = np.unique(y_km)\n",
    "n_clusters = cluster_label.shape[0]\n",
    "silhouette_vals = silhouette_samples(X,y_km,metric = 'euclidean')\n",
    "y_ax_lower,y_ax_upper = 0,0\n",
    "yticks = []\n",
    "for i,c in enumerate(cluster_label):\n",
    "    c_silhouette_vals = silhouette_vals[y_km == c]\n",
    "    c_silhouette_vals.sort()\n",
    "    y_ax_upper += len(c_silhouette_vals)\n",
    "    color = cm.jet(1/n_clusters)\n",
    "    plt.barh(range(y_ax_lower,y_ax_upper),\n",
    "            c_silhouette_vals,\n",
    "            height = 1.0,\n",
    "            edgecolor = 'none',\n",
    "            color = color)\n",
    "    yticks.append((y_ax_lower + y_ax_upper)/2)\n",
    "    y_ax_lower += len(c_silhouette_vals)\n",
    "silhouette_avg = np.mean(silhouette_vals)\n",
    "plt.axvline(silhouette_avg,color = 'red',linestyle = \"--\")\n",
    "plt.yticks(yticks,cluster_label +1)"
   ]
  },
  {
   "cell_type": "markdown",
   "metadata": {},
   "source": [
    "## 2. Organizing clusters as a hierarchical tree"
   ]
  },
  {
   "cell_type": "markdown",
   "metadata": {},
   "source": [
    "Hierarchical clustering Advantage:\n",
    "1. allows plot dendrograms\n",
    "2. dont need to specify number of clusters"
   ]
  },
  {
   "cell_type": "markdown",
   "metadata": {},
   "source": [
    "agglomerative clustering: start with each sample as individual cluster and merge the closest pairs until only one cluster remains"
   ]
  },
  {
   "cell_type": "markdown",
   "metadata": {},
   "source": [
    "single linkage: most similar members   \n",
    "complete linkage: most dissimilar members"
   ]
  },
  {
   "cell_type": "code",
   "execution_count": 43,
   "metadata": {},
   "outputs": [],
   "source": [
    "import pandas as pd\n",
    "import numpy as np\n",
    "np.random.seed(123)"
   ]
  },
  {
   "cell_type": "code",
   "execution_count": 47,
   "metadata": {},
   "outputs": [],
   "source": [
    "variables = ['X','Y','Z']\n",
    "labels = ['ID_0','ID_1','ID_2','ID_3','ID_4']\n",
    "X = np.random.random_sample([5,3])*10\n",
    "df = pd.DataFrame(X,columns = variables,index = labels)"
   ]
  },
  {
   "cell_type": "code",
   "execution_count": 54,
   "metadata": {},
   "outputs": [
    {
     "data": {
      "text/html": [
       "<div>\n",
       "<style scoped>\n",
       "    .dataframe tbody tr th:only-of-type {\n",
       "        vertical-align: middle;\n",
       "    }\n",
       "\n",
       "    .dataframe tbody tr th {\n",
       "        vertical-align: top;\n",
       "    }\n",
       "\n",
       "    .dataframe thead th {\n",
       "        text-align: right;\n",
       "    }\n",
       "</style>\n",
       "<table border=\"1\" class=\"dataframe\">\n",
       "  <thead>\n",
       "    <tr style=\"text-align: right;\">\n",
       "      <th></th>\n",
       "      <th>X</th>\n",
       "      <th>Y</th>\n",
       "      <th>Z</th>\n",
       "    </tr>\n",
       "  </thead>\n",
       "  <tbody>\n",
       "    <tr>\n",
       "      <th>ID_0</th>\n",
       "      <td>2.504554</td>\n",
       "      <td>4.830343</td>\n",
       "      <td>9.855598</td>\n",
       "    </tr>\n",
       "    <tr>\n",
       "      <th>ID_1</th>\n",
       "      <td>5.194851</td>\n",
       "      <td>6.128945</td>\n",
       "      <td>1.206287</td>\n",
       "    </tr>\n",
       "    <tr>\n",
       "      <th>ID_2</th>\n",
       "      <td>8.263408</td>\n",
       "      <td>6.030601</td>\n",
       "      <td>5.450680</td>\n",
       "    </tr>\n",
       "    <tr>\n",
       "      <th>ID_3</th>\n",
       "      <td>3.427638</td>\n",
       "      <td>3.041208</td>\n",
       "      <td>4.170222</td>\n",
       "    </tr>\n",
       "    <tr>\n",
       "      <th>ID_4</th>\n",
       "      <td>6.813008</td>\n",
       "      <td>8.754568</td>\n",
       "      <td>5.104223</td>\n",
       "    </tr>\n",
       "  </tbody>\n",
       "</table>\n",
       "</div>"
      ],
      "text/plain": [
       "             X         Y         Z\n",
       "ID_0  2.504554  4.830343  9.855598\n",
       "ID_1  5.194851  6.128945  1.206287\n",
       "ID_2  8.263408  6.030601  5.450680\n",
       "ID_3  3.427638  3.041208  4.170222\n",
       "ID_4  6.813008  8.754568  5.104223"
      ]
     },
     "execution_count": 54,
     "metadata": {},
     "output_type": "execute_result"
    }
   ],
   "source": [
    "df"
   ]
  },
  {
   "cell_type": "code",
   "execution_count": 49,
   "metadata": {
    "scrolled": true
   },
   "outputs": [
    {
     "data": {
      "text/html": [
       "<div>\n",
       "<style scoped>\n",
       "    .dataframe tbody tr th:only-of-type {\n",
       "        vertical-align: middle;\n",
       "    }\n",
       "\n",
       "    .dataframe tbody tr th {\n",
       "        vertical-align: top;\n",
       "    }\n",
       "\n",
       "    .dataframe thead th {\n",
       "        text-align: right;\n",
       "    }\n",
       "</style>\n",
       "<table border=\"1\" class=\"dataframe\">\n",
       "  <thead>\n",
       "    <tr style=\"text-align: right;\">\n",
       "      <th></th>\n",
       "      <th>ID_0</th>\n",
       "      <th>ID_1</th>\n",
       "      <th>ID_2</th>\n",
       "      <th>ID_3</th>\n",
       "      <th>ID_4</th>\n",
       "    </tr>\n",
       "  </thead>\n",
       "  <tbody>\n",
       "    <tr>\n",
       "      <th>ID_0</th>\n",
       "      <td>0.000000</td>\n",
       "      <td>9.150664</td>\n",
       "      <td>7.349036</td>\n",
       "      <td>6.031301</td>\n",
       "      <td>7.519168</td>\n",
       "    </tr>\n",
       "    <tr>\n",
       "      <th>ID_1</th>\n",
       "      <td>9.150664</td>\n",
       "      <td>0.000000</td>\n",
       "      <td>5.238376</td>\n",
       "      <td>4.630559</td>\n",
       "      <td>4.970537</td>\n",
       "    </tr>\n",
       "    <tr>\n",
       "      <th>ID_2</th>\n",
       "      <td>7.349036</td>\n",
       "      <td>5.238376</td>\n",
       "      <td>0.000000</td>\n",
       "      <td>5.827582</td>\n",
       "      <td>3.105429</td>\n",
       "    </tr>\n",
       "    <tr>\n",
       "      <th>ID_3</th>\n",
       "      <td>6.031301</td>\n",
       "      <td>4.630559</td>\n",
       "      <td>5.827582</td>\n",
       "      <td>0.000000</td>\n",
       "      <td>6.706383</td>\n",
       "    </tr>\n",
       "    <tr>\n",
       "      <th>ID_4</th>\n",
       "      <td>7.519168</td>\n",
       "      <td>4.970537</td>\n",
       "      <td>3.105429</td>\n",
       "      <td>6.706383</td>\n",
       "      <td>0.000000</td>\n",
       "    </tr>\n",
       "  </tbody>\n",
       "</table>\n",
       "</div>"
      ],
      "text/plain": [
       "          ID_0      ID_1      ID_2      ID_3      ID_4\n",
       "ID_0  0.000000  9.150664  7.349036  6.031301  7.519168\n",
       "ID_1  9.150664  0.000000  5.238376  4.630559  4.970537\n",
       "ID_2  7.349036  5.238376  0.000000  5.827582  3.105429\n",
       "ID_3  6.031301  4.630559  5.827582  0.000000  6.706383\n",
       "ID_4  7.519168  4.970537  3.105429  6.706383  0.000000"
      ]
     },
     "execution_count": 49,
     "metadata": {},
     "output_type": "execute_result"
    }
   ],
   "source": [
    "from scipy.spatial.distance import pdist,squareform\n",
    "row_dist = pd.DataFrame(squareform(pdist(df,metric = 'euclidean')),columns = labels,index = labels)\n",
    "row_dist"
   ]
  },
  {
   "cell_type": "code",
   "execution_count": 55,
   "metadata": {},
   "outputs": [],
   "source": [
    "from scipy.cluster.hierarchy import linkage\n",
    "row_clusters = linkage(pdist(df,metric=\"euclidean\"),method = 'complete')"
   ]
  },
  {
   "cell_type": "code",
   "execution_count": 56,
   "metadata": {},
   "outputs": [
    {
     "data": {
      "text/html": [
       "<div>\n",
       "<style scoped>\n",
       "    .dataframe tbody tr th:only-of-type {\n",
       "        vertical-align: middle;\n",
       "    }\n",
       "\n",
       "    .dataframe tbody tr th {\n",
       "        vertical-align: top;\n",
       "    }\n",
       "\n",
       "    .dataframe thead th {\n",
       "        text-align: right;\n",
       "    }\n",
       "</style>\n",
       "<table border=\"1\" class=\"dataframe\">\n",
       "  <thead>\n",
       "    <tr style=\"text-align: right;\">\n",
       "      <th></th>\n",
       "      <th>row label 1</th>\n",
       "      <th>row label 2</th>\n",
       "      <th>distance</th>\n",
       "      <th>#iterms</th>\n",
       "    </tr>\n",
       "  </thead>\n",
       "  <tbody>\n",
       "    <tr>\n",
       "      <th>cluster1</th>\n",
       "      <td>2.0</td>\n",
       "      <td>4.0</td>\n",
       "      <td>3.105429</td>\n",
       "      <td>2.0</td>\n",
       "    </tr>\n",
       "    <tr>\n",
       "      <th>cluster2</th>\n",
       "      <td>1.0</td>\n",
       "      <td>3.0</td>\n",
       "      <td>4.630559</td>\n",
       "      <td>2.0</td>\n",
       "    </tr>\n",
       "    <tr>\n",
       "      <th>cluster3</th>\n",
       "      <td>5.0</td>\n",
       "      <td>6.0</td>\n",
       "      <td>6.706383</td>\n",
       "      <td>4.0</td>\n",
       "    </tr>\n",
       "    <tr>\n",
       "      <th>cluster4</th>\n",
       "      <td>0.0</td>\n",
       "      <td>7.0</td>\n",
       "      <td>9.150664</td>\n",
       "      <td>5.0</td>\n",
       "    </tr>\n",
       "  </tbody>\n",
       "</table>\n",
       "</div>"
      ],
      "text/plain": [
       "          row label 1  row label 2  distance  #iterms\n",
       "cluster1          2.0          4.0  3.105429      2.0\n",
       "cluster2          1.0          3.0  4.630559      2.0\n",
       "cluster3          5.0          6.0  6.706383      4.0\n",
       "cluster4          0.0          7.0  9.150664      5.0"
      ]
     },
     "execution_count": 56,
     "metadata": {},
     "output_type": "execute_result"
    }
   ],
   "source": [
    "pd.DataFrame(row_clusters,\n",
    "             columns = ['row label 1','row label 2','distance','#iterms'],\n",
    "             index = ['cluster1','cluster2','cluster3','cluster4'])"
   ]
  },
  {
   "cell_type": "code",
   "execution_count": 57,
   "metadata": {},
   "outputs": [
    {
     "data": {
      "image/png": "[encoded data removed]",
      "text/plain": [
       "<Figure size 432x288 with 1 Axes>"
      ]
     },
     "metadata": {},
     "output_type": "display_data"
    }
   ],
   "source": [
    "from scipy.cluster.hierarchy import dendrogram\n",
    "row_dendr = dendrogram(row_clusters,labels = labels)\n",
    "plt.tight_layout()\n"
   ]
  },
  {
   "cell_type": "code",
   "execution_count": 63,
   "metadata": {},
   "outputs": [
    {
     "data": {
      "text/plain": [
       "[Text(0,0,''),\n",
       " Text(0,0,'ID_3'),\n",
       " Text(0,0,'ID_1'),\n",
       " Text(0,0,'ID_4'),\n",
       " Text(0,0,'ID_2'),\n",
       " Text(0,0,'ID_0')]"
      ]
     },
     "execution_count": 63,
     "metadata": {},
     "output_type": "execute_result"
    },
    {
     "data": {
      "image/png": "[encoded data removed]",
      "text/plain": [
       "<Figure size 576x576 with 3 Axes>"
      ]
     },
     "metadata": {},
     "output_type": "display_data"
    }
   ],
   "source": [
    "fig = plt.figure(figsize= (8,8))\n",
    "axd = fig.add_axes([0.09,0.1,0.2,0.6])\n",
    "row_dendr = dendrogram(row_clusters,orientation=\"right\")\n",
    "\n",
    "df_rowclust = df.ix[row_dendr['leaves'][::-1]]\n",
    "axm = fig.add_axes([0.23,0.1,0.6,0.6])\n",
    "cax = axm.matshow(df_rowclust,interpolation = 'nearest',cmap ='hot_r')\n",
    "axd.set_xticks([])\n",
    "axd.set_yticks([])\n",
    "for i in axd.spines.values():\n",
    "    i.set_visible(False)\n",
    "fig.colorbar(cax)\n",
    "axm.set_xticklabels(['']+list(df_rowclust.columns))\n",
    "axm.set_yticklabels(['']+list(df_rowclust.index))"
   ]
  },
  {
   "cell_type": "markdown",
   "metadata": {},
   "source": [
    "## 2.2 Agglomerative clustering via sklearn"
   ]
  },
  {
   "cell_type": "code",
   "execution_count": 66,
   "metadata": {},
   "outputs": [
    {
     "name": "stdout",
     "output_type": "stream",
     "text": [
      "labels :[1 0 0 0 0]\n"
     ]
    }
   ],
   "source": [
    "from sklearn.cluster import AgglomerativeClustering\n",
    "ac = AgglomerativeClustering(n_clusters=2,affinity = 'euclidean',linkage='complete')\n",
    "labels = ac.fit_predict(X)\n",
    "print(\"labels :{}\".format(labels))"
   ]
  },
  {
   "cell_type": "code",
   "execution_count": 67,
   "metadata": {},
   "outputs": [
    {
     "data": {
      "text/plain": [
       "array([[2.50455365, 4.83034264, 9.85559786],\n",
       "       [5.19485119, 6.12894526, 1.20628666],\n",
       "       [8.26340801, 6.03060128, 5.45068006],\n",
       "       [3.42763834, 3.04120789, 4.17022211],\n",
       "       [6.81300766, 8.75456842, 5.10422337]])"
      ]
     },
     "execution_count": 67,
     "metadata": {},
     "output_type": "execute_result"
    }
   ],
   "source": [
    "X"
   ]
  },
  {
   "cell_type": "markdown",
   "metadata": {},
   "source": [
    "## 3. Locationg regions of high density via DBSCAN"
   ]
  },
  {
   "cell_type": "markdown",
   "metadata": {},
   "source": [
    "DBSCAN: Density-based Spatial Clustering of Applications with Noise"
   ]
  },
  {
   "cell_type": "markdown",
   "metadata": {},
   "source": [
    "Advantage: \n",
    "1. don't assume that the clusters have a spherical shape as in k-means\n",
    "2. capables of removing noise points  \n",
    "\n",
    "Disadvantage:  \n",
    "1. curse of dimensionality "
   ]
  },
  {
   "cell_type": "code",
   "execution_count": 68,
   "metadata": {},
   "outputs": [
    {
     "data": {
      "text/plain": [
       "<matplotlib.collections.PathCollection at 0x114a67e48>"
      ]
     },
     "execution_count": 68,
     "metadata": {},
     "output_type": "execute_result"
    },
    {
     "data": {
      "image/png": "[encoded data removed]",
      "text/plain": [
       "<Figure size 432x288 with 1 Axes>"
      ]
     },
     "metadata": {},
     "output_type": "display_data"
    }
   ],
   "source": [
    "from sklearn.datasets import make_moons\n",
    "X,y = make_moons(n_samples = 200,noise = 0.05,random_state = 0)\n",
    "plt.scatter(X[:,0],X[:,1])"
   ]
  },
  {
   "cell_type": "code",
   "execution_count": 70,
   "metadata": {},
   "outputs": [],
   "source": [
    "# k-means vs complete linkage clustering vs DBSCAN\n"
   ]
  },
  {
   "cell_type": "code",
   "execution_count": 73,
   "metadata": {},
   "outputs": [
    {
     "data": {
      "text/plain": [
       "<matplotlib.legend.Legend at 0x11508df28>"
      ]
     },
     "execution_count": 73,
     "metadata": {},
     "output_type": "execute_result"
    },
    {
     "data": {
      "image/png": "[encoded data removed]",
      "text/plain": [
       "<Figure size 432x288 with 1 Axes>"
      ]
     },
     "metadata": {},
     "output_type": "display_data"
    }
   ],
   "source": [
    "# k-means\n",
    "from sklearn.cluster import KMeans\n",
    "km = KMeans(n_clusters = 2,init = 'random',n_init = 10, max_iter = 300,tol = 1e-04,random_state = 0)\n",
    "y_km = km.fit_predict(X)\n",
    "plt.scatter(X[y_km == 0,0],X[y_km ==0,1],color = 'red',marker = \"^\",label = \"class 0\")\n",
    "plt.scatter(X[y_km == 1,0],X[y_km ==1,1],color = 'blue',marker = \"*\",label = \"class 1\")\n",
    "plt.legend()"
   ]
  },
  {
   "cell_type": "code",
   "execution_count": 74,
   "metadata": {},
   "outputs": [
    {
     "data": {
      "text/plain": [
       "<matplotlib.legend.Legend at 0x1150f84e0>"
      ]
     },
     "execution_count": 74,
     "metadata": {},
     "output_type": "execute_result"
    },
    {
     "data": {
      "image/png": "[encoded data removed]",
      "text/plain": [
       "<Figure size 432x288 with 1 Axes>"
      ]
     },
     "metadata": {},
     "output_type": "display_data"
    }
   ],
   "source": [
    "# complete linkage\n",
    "from sklearn.cluster import AgglomerativeClustering\n",
    "ac = AgglomerativeClustering(n_clusters=2,affinity = 'euclidean',linkage='complete')\n",
    "y_ac = ac.fit_predict(X)\n",
    "plt.scatter(X[y_ac == 0,0],X[y_ac ==0,1],color = 'red',marker = \"^\",label = \"class 0\")\n",
    "plt.scatter(X[y_ac == 1,0],X[y_ac ==1,1],color = 'blue',marker = \"*\",label = \"class 1\")\n",
    "plt.legend()"
   ]
  },
  {
   "cell_type": "code",
   "execution_count": 75,
   "metadata": {},
   "outputs": [
    {
     "data": {
      "text/plain": [
       "<matplotlib.legend.Legend at 0x115159ba8>"
      ]
     },
     "execution_count": 75,
     "metadata": {},
     "output_type": "execute_result"
    },
    {
     "data": {
      "image/png": "[encoded data removed]",
      "text/plain": [
       "<Figure size 432x288 with 1 Axes>"
      ]
     },
     "metadata": {},
     "output_type": "display_data"
    }
   ],
   "source": [
    "# DBSCAN\n",
    "from sklearn.cluster import DBSCAN\n",
    "db = DBSCAN(eps = 0.2,min_samples = 5,metric = \"euclidean\")\n",
    "y_db = db.fit_predict(X)\n",
    "plt.scatter(X[y_db == 0,0],X[y_db ==0,1],color = 'red',marker = \"^\",label = \"class 0\")\n",
    "plt.scatter(X[y_db == 1,0],X[y_db ==1,1],color = 'blue',marker = \"*\",label = \"class 1\")\n",
    "plt.legend()"
   ]
  },
  {
   "cell_type": "code",
   "execution_count": 89,
   "metadata": {},
   "outputs": [
    {
     "data": {
      "text/plain": [
       "<matplotlib.legend.Legend at 0x115610e10>"
      ]
     },
     "execution_count": 89,
     "metadata": {},
     "output_type": "execute_result"
    },
    {
     "data": {
      "image/png": "[encoded data removed]",
      "text/plain": [
       "<Figure size 720x432 with 3 Axes>"
      ]
     },
     "metadata": {},
     "output_type": "display_data"
    }
   ],
   "source": [
    "f , (ax1,ax2,ax3) = plt.subplots(1,3,figsize = (10,6))\n",
    "ax1.scatter(X[y_km == 0,0],X[y_km ==0,1],color = 'red',marker = \"^\",label = \"class 0\")\n",
    "ax1.scatter(X[y_km == 1,0],X[y_km ==1,1],color = 'blue',marker = \"*\",label = \"class 1\")\n",
    "ax1.set_title(\"K-means\")\n",
    "ax2.scatter(X[y_ac == 0,0],X[y_ac ==0,1],color = 'red',marker = \"^\",label = \"class 0\")\n",
    "ax2.scatter(X[y_ac == 1,0],X[y_ac ==1,1],color = 'blue',marker = \"*\",label = \"class 1\")\n",
    "ax2.set_title(\"Agglomerative clustering\")\n",
    "ax3.scatter(X[y_db == 0,0],X[y_db ==0,1],color = 'red',marker = \"^\",label = \"class 0\")\n",
    "ax3.scatter(X[y_db == 1,0],X[y_db ==1,1],color = 'blue',marker = \"*\",label = \"class 1\")\n",
    "ax3.set_title(\"DBSCAN\")\n",
    "plt.legend()"
   ]
  },
  {
   "cell_type": "markdown",
   "metadata": {},
   "source": [
    "## 4. Summary"
   ]
  },
  {
   "cell_type": "markdown",
   "metadata": {},
   "source": [
    "k-means: clusters samples ino spherical shapes based on specified number of cluster centroids  \n",
    "intrinsic performance metrics: elbow method / silhouette analysis  \n",
    "agglomerative hierarchical clustering: don't need number of K,can visulated  \n",
    "DBSCAN: groups points based on local densities / handle outliers  "
   ]
  },
  {
   "cell_type": "markdown",
   "metadata": {},
   "source": [
    "## 5. Reference"
   ]
  },
  {
   "cell_type": "markdown",
   "metadata": {},
   "source": [
    "K-means++ :  \n",
    "The Advantage of Careful Seeding (D.Arthur)  \n",
    "  \n",
    "FCM:   \n",
    "Pattern Recognition with Fuzzy Objective Function Algorithms (J.C.Bezdek)  \n",
    "  \n",
    "k-mean vs FCM:   \n",
    "Comparative Analysis of k-means and Fuzzy c-means Algorithms (Soumi Ghosh)  \n",
    "  \n",
    "Spectral Clustering:   \n",
    "A tutorial on Spectral Clustering http://arxiv.org/pdf/0711.0189v1.pdf  \n"
   ]
  },
  {
   "cell_type": "code",
   "execution_count": null,
   "metadata": {},
   "outputs": [],
   "source": []
  }
 ],
 "metadata": {
  "kernelspec": {
   "display_name": "Python 3",
   "language": "python",
   "name": "python3"
  },
  "language_info": {
   "codemirror_mode": {
    "name": "ipython",
    "version": 3
   },
   "file_extension": ".py",
   "mimetype": "text/x-python",
   "name": "python",
   "nbconvert_exporter": "python",
   "pygments_lexer": "ipython3",
   "version": "3.6.5"
  }
 },
 "nbformat": 4,
 "nbformat_minor": 2
}
