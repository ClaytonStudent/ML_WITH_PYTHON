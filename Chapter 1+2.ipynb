{
 "cells": [
  {
   "cell_type": "markdown",
   "metadata": {},
   "source": [
    "## 1. Types of Machine Learning"
   ]
  },
  {
   "cell_type": "markdown",
   "metadata": {},
   "source": [
    "1. supervised learning: learn a model form labeled training data that allows us to make predictions about unseen or future data.(classfication/regression)\n",
    "2. unsupervised learning:Clustering   \n",
    "3. reinforcement learning:Develop a system that improves its performance based on interactions with the environment   "
   ]
  },
  {
   "cell_type": "markdown",
   "metadata": {},
   "source": [
    "## 2. Clustering:   \n",
    "an exploratory data analysis technique that allows us to organize a pile of information into meaningful subgroups without having any prior knowledge of their group memberships.\n",
    "\n",
    "## 3. Dimensionality reduction:  \n",
    "because of limited storage space and computational performance  "
   ]
  },
  {
   "cell_type": "markdown",
   "metadata": {},
   "source": [
    "## 4. SSE vs MSE\n",
    "SSE: Sum of Squared Errors  \n",
    "MSE: Mean Squared Erros"
   ]
  },
  {
   "cell_type": "markdown",
   "metadata": {},
   "source": [
    "## 5. SGD vs BGD"
   ]
  },
  {
   "cell_type": "markdown",
   "metadata": {},
   "source": [
    "Stochastic gradient descent can be considered as an approximation of gradient descent  \n",
    "Adv: \n",
    "1. reach convergence much faster because of more frequent weight updates\n",
    "2. can use for online learning  \n",
    "3. escape shallow local minima more readily  \n",
    "\n",
    "Dis:\n",
    "1. Error surface noiser\n",
    "2. shuffle the training every epoch"
   ]
  },
  {
   "cell_type": "markdown",
   "metadata": {},
   "source": [
    "Compromise : mini-batch learning\n",
    "Adv: \n",
    "1. convergence faster\n",
    "2. avoid for loop in SGD"
   ]
  },
  {
   "cell_type": "markdown",
   "metadata": {},
   "source": [
    "## 6. No Free Lunch"
   ]
  },
  {
   "cell_type": "markdown",
   "metadata": {},
   "source": [
    "No single clasifier works best across all possible scenarios"
   ]
  },
  {
   "cell_type": "markdown",
   "metadata": {},
   "source": [
    "每个算法都有自己适用的问题的范围"
   ]
  },
  {
   "cell_type": "code",
   "execution_count": null,
   "metadata": {},
   "outputs": [],
   "source": []
  }
 ],
 "metadata": {
  "kernelspec": {
   "display_name": "Python 3",
   "language": "python",
   "name": "python3"
  },
  "language_info": {
   "codemirror_mode": {
    "name": "ipython",
    "version": 3
   },
   "file_extension": ".py",
   "mimetype": "text/x-python",
   "name": "python",
   "nbconvert_exporter": "python",
   "pygments_lexer": "ipython3",
   "version": "3.6.5"
  }
 },
 "nbformat": 4,
 "nbformat_minor": 2
}
